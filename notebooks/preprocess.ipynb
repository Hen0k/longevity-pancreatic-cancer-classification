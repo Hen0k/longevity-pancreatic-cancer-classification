{
 "cells": [
  {
   "cell_type": "markdown",
   "metadata": {},
   "source": [
    "This notebooks is not a one off.\n",
    "\n",
    "I keep coming back to it to make different version of the dataset."
   ]
  },
  {
   "cell_type": "code",
   "execution_count": 14,
   "metadata": {},
   "outputs": [],
   "source": [
    "import sys\n",
    "sys.path.append(\"../scripts\")\n",
    "from fetch_data import DataLoader\n",
    "from cleaning import CleanDataFrame\n",
    "from visualization import Plotters\n",
    "from processing import FeatureEngineering\n",
    "from exploration import Analysis"
   ]
  },
  {
   "cell_type": "code",
   "execution_count": 15,
   "metadata": {},
   "outputs": [],
   "source": [
    "cleaner = CleanDataFrame()\n",
    "plotters = Plotters(w=8, h=8)\n",
    "analyzer = Analysis()\n"
   ]
  },
  {
   "cell_type": "code",
   "execution_count": 20,
   "metadata": {},
   "outputs": [],
   "source": [
    "DATASET_PATH = \"../data/Debernardi et al 2020 data.csv\""
   ]
  },
  {
   "cell_type": "code",
   "execution_count": 21,
   "metadata": {},
   "outputs": [
    {
     "name": "stdout",
     "output_type": "stream",
     "text": [
      "Pandas: CSV read from: ../data/Debernardi et al 2020 data.csv\n"
     ]
    }
   ],
   "source": [
    "df = DataLoader.read_csv(DATASET_PATH)"
   ]
  },
  {
   "cell_type": "code",
   "execution_count": 22,
   "metadata": {},
   "outputs": [
    {
     "name": "stdout",
     "output_type": "stream",
     "text": [
      "<class 'pandas.core.frame.DataFrame'>\n",
      "RangeIndex: 590 entries, 0 to 589\n",
      "Data columns (total 14 columns):\n",
      " #   Column                   Non-Null Count  Dtype  \n",
      "---  ------                   --------------  -----  \n",
      " 0   sample_id                590 non-null    object \n",
      " 1   patient_cohort           590 non-null    object \n",
      " 2   sample_origin            590 non-null    object \n",
      " 3   age                      590 non-null    int64  \n",
      " 4   sex                      590 non-null    object \n",
      " 5   diagnosis                590 non-null    int64  \n",
      " 6   stage                    199 non-null    object \n",
      " 7   benign_sample_diagnosis  208 non-null    object \n",
      " 8   plasma_CA19_9            350 non-null    float64\n",
      " 9   creatinine               590 non-null    float64\n",
      " 10  LYVE1                    590 non-null    float64\n",
      " 11  REG1B                    590 non-null    float64\n",
      " 12  TFF1                     590 non-null    float64\n",
      " 13  REG1A                    306 non-null    float64\n",
      "dtypes: float64(6), int64(2), object(6)\n",
      "memory usage: 64.7+ KB\n"
     ]
    }
   ],
   "source": [
    "df.info()"
   ]
  },
  {
   "cell_type": "markdown",
   "metadata": {},
   "source": [
    "For this first version, I will remove all the patient related attributes that don't relate to the disease and don't contribute to the generality of my model.\n",
    "These will be columns like the `sample_id` which is unique for each patient.\n",
    "\n",
    "- sample_id\n",
    "- patient_cohort\n",
    "- sample_origin\n",
    "- stage\n",
    "- benign_sample_diagnosis"
   ]
  },
  {
   "cell_type": "code",
   "execution_count": 23,
   "metadata": {},
   "outputs": [
    {
     "name": "stdout",
     "output_type": "stream",
     "text": [
      "<class 'pandas.core.frame.DataFrame'>\n",
      "RangeIndex: 590 entries, 0 to 589\n",
      "Data columns (total 9 columns):\n",
      " #   Column         Non-Null Count  Dtype  \n",
      "---  ------         --------------  -----  \n",
      " 0   age            590 non-null    int64  \n",
      " 1   sex            590 non-null    object \n",
      " 2   diagnosis      590 non-null    int64  \n",
      " 3   plasma_CA19_9  350 non-null    float64\n",
      " 4   creatinine     590 non-null    float64\n",
      " 5   LYVE1          590 non-null    float64\n",
      " 6   REG1B          590 non-null    float64\n",
      " 7   TFF1           590 non-null    float64\n",
      " 8   REG1A          306 non-null    float64\n",
      "dtypes: float64(6), int64(2), object(1)\n",
      "memory usage: 41.6+ KB\n"
     ]
    }
   ],
   "source": [
    "col_to_drop = [\n",
    "    \"sample_id\",\n",
    "    \"patient_cohort\",\n",
    "    \"sample_origin\",\n",
    "    \"stage\",\n",
    "    \"benign_sample_diagnosis\",\n",
    "]\n",
    "df = cleaner.drop_columns(df, col_to_drop)\n",
    "df.info()"
   ]
  },
  {
   "cell_type": "code",
   "execution_count": 27,
   "metadata": {},
   "outputs": [],
   "source": [
    "count, cols = analyzer.get_missing_entries_count(df)"
   ]
  },
  {
   "cell_type": "code",
   "execution_count": 31,
   "metadata": {},
   "outputs": [
    {
     "data": {
      "text/plain": [
       "plasma_CA19_9    240\n",
       "REG1A            284\n",
       "dtype: int64"
      ]
     },
     "execution_count": 31,
     "metadata": {},
     "output_type": "execute_result"
    }
   ],
   "source": [
    "count"
   ]
  },
  {
   "cell_type": "code",
   "execution_count": 25,
   "metadata": {},
   "outputs": [
    {
     "name": "stdout",
     "output_type": "stream",
     "text": [
      "The dataset contains 9.87 % missing values.\n"
     ]
    }
   ],
   "source": [
    "analyzer.percent_missing(df)"
   ]
  },
  {
   "cell_type": "markdown",
   "metadata": {},
   "source": [
    "# Save the data"
   ]
  },
  {
   "cell_type": "code",
   "execution_count": 26,
   "metadata": {},
   "outputs": [],
   "source": [
    "df.to_csv(DATASET_PATH, index=False)"
   ]
  },
  {
   "cell_type": "markdown",
   "metadata": {},
   "source": [
    "# Deal with missing values"
   ]
  },
  {
   "cell_type": "code",
   "execution_count": 28,
   "metadata": {},
   "outputs": [
    {
     "name": "stdout",
     "output_type": "stream",
     "text": [
      "<class 'pandas.core.frame.DataFrame'>\n",
      "RangeIndex: 590 entries, 0 to 589\n",
      "Data columns (total 9 columns):\n",
      " #   Column         Non-Null Count  Dtype  \n",
      "---  ------         --------------  -----  \n",
      " 0   age            590 non-null    int64  \n",
      " 1   sex            590 non-null    object \n",
      " 2   diagnosis      590 non-null    int64  \n",
      " 3   plasma_CA19_9  590 non-null    float64\n",
      " 4   creatinine     590 non-null    float64\n",
      " 5   LYVE1          590 non-null    float64\n",
      " 6   REG1B          590 non-null    float64\n",
      " 7   TFF1           590 non-null    float64\n",
      " 8   REG1A          590 non-null    float64\n",
      "dtypes: float64(6), int64(2), object(1)\n",
      "memory usage: 41.6+ KB\n"
     ]
    }
   ],
   "source": [
    "df = cleaner.replace_missing(df, columns=cols, method=\"median\")\n",
    "df.info()"
   ]
  },
  {
   "cell_type": "code",
   "execution_count": 29,
   "metadata": {},
   "outputs": [
    {
     "data": {
      "text/html": [
       "<div>\n",
       "<style scoped>\n",
       "    .dataframe tbody tr th:only-of-type {\n",
       "        vertical-align: middle;\n",
       "    }\n",
       "\n",
       "    .dataframe tbody tr th {\n",
       "        vertical-align: top;\n",
       "    }\n",
       "\n",
       "    .dataframe thead th {\n",
       "        text-align: right;\n",
       "    }\n",
       "</style>\n",
       "<table border=\"1\" class=\"dataframe\">\n",
       "  <thead>\n",
       "    <tr style=\"text-align: right;\">\n",
       "      <th></th>\n",
       "      <th>count</th>\n",
       "      <th>mean</th>\n",
       "      <th>std</th>\n",
       "      <th>min</th>\n",
       "      <th>25%</th>\n",
       "      <th>50%</th>\n",
       "      <th>75%</th>\n",
       "      <th>max</th>\n",
       "      <th>mode</th>\n",
       "      <th>CoV</th>\n",
       "      <th>skew</th>\n",
       "      <th>kurtosis</th>\n",
       "      <th>iqr</th>\n",
       "      <th>missing_counts</th>\n",
       "    </tr>\n",
       "  </thead>\n",
       "  <tbody>\n",
       "    <tr>\n",
       "      <th>age</th>\n",
       "      <td>590.0</td>\n",
       "      <td>59.079661</td>\n",
       "      <td>13.109520</td>\n",
       "      <td>26.000000</td>\n",
       "      <td>50.000000</td>\n",
       "      <td>60.000000</td>\n",
       "      <td>69.000000</td>\n",
       "      <td>89.000000</td>\n",
       "      <td>68.000000</td>\n",
       "      <td>0.221896</td>\n",
       "      <td>-0.216832</td>\n",
       "      <td>-0.511899</td>\n",
       "      <td>19.000000</td>\n",
       "      <td>0</td>\n",
       "    </tr>\n",
       "    <tr>\n",
       "      <th>diagnosis</th>\n",
       "      <td>590.0</td>\n",
       "      <td>2.027119</td>\n",
       "      <td>0.804873</td>\n",
       "      <td>1.000000</td>\n",
       "      <td>1.000000</td>\n",
       "      <td>2.000000</td>\n",
       "      <td>3.000000</td>\n",
       "      <td>3.000000</td>\n",
       "      <td>2.000000</td>\n",
       "      <td>0.397053</td>\n",
       "      <td>-0.049186</td>\n",
       "      <td>-1.454333</td>\n",
       "      <td>2.000000</td>\n",
       "      <td>0</td>\n",
       "    </tr>\n",
       "    <tr>\n",
       "      <th>plasma_CA19_9</th>\n",
       "      <td>590.0</td>\n",
       "      <td>398.747509</td>\n",
       "      <td>1896.028213</td>\n",
       "      <td>0.000000</td>\n",
       "      <td>17.000000</td>\n",
       "      <td>26.500000</td>\n",
       "      <td>41.750000</td>\n",
       "      <td>31000.000000</td>\n",
       "      <td>26.500000</td>\n",
       "      <td>4.754959</td>\n",
       "      <td>10.376093</td>\n",
       "      <td>136.966308</td>\n",
       "      <td>24.750000</td>\n",
       "      <td>0</td>\n",
       "    </tr>\n",
       "    <tr>\n",
       "      <th>creatinine</th>\n",
       "      <td>590.0</td>\n",
       "      <td>0.855383</td>\n",
       "      <td>0.639028</td>\n",
       "      <td>0.056550</td>\n",
       "      <td>0.373230</td>\n",
       "      <td>0.723840</td>\n",
       "      <td>1.139482</td>\n",
       "      <td>4.116840</td>\n",
       "      <td>0.576810</td>\n",
       "      <td>0.747067</td>\n",
       "      <td>1.466413</td>\n",
       "      <td>2.739650</td>\n",
       "      <td>0.766253</td>\n",
       "      <td>0</td>\n",
       "    </tr>\n",
       "    <tr>\n",
       "      <th>LYVE1</th>\n",
       "      <td>590.0</td>\n",
       "      <td>3.063530</td>\n",
       "      <td>3.438796</td>\n",
       "      <td>0.000129</td>\n",
       "      <td>0.167179</td>\n",
       "      <td>1.649862</td>\n",
       "      <td>5.205037</td>\n",
       "      <td>23.890323</td>\n",
       "      <td>0.000814</td>\n",
       "      <td>1.122495</td>\n",
       "      <td>1.394014</td>\n",
       "      <td>2.419378</td>\n",
       "      <td>5.037858</td>\n",
       "      <td>0</td>\n",
       "    </tr>\n",
       "    <tr>\n",
       "      <th>REG1B</th>\n",
       "      <td>590.0</td>\n",
       "      <td>111.774090</td>\n",
       "      <td>196.267110</td>\n",
       "      <td>0.001104</td>\n",
       "      <td>10.757216</td>\n",
       "      <td>34.303353</td>\n",
       "      <td>122.741013</td>\n",
       "      <td>1403.897600</td>\n",
       "      <td>1.769536</td>\n",
       "      <td>1.755927</td>\n",
       "      <td>3.333925</td>\n",
       "      <td>13.077588</td>\n",
       "      <td>111.983796</td>\n",
       "      <td>0</td>\n",
       "    </tr>\n",
       "    <tr>\n",
       "      <th>TFF1</th>\n",
       "      <td>590.0</td>\n",
       "      <td>597.868722</td>\n",
       "      <td>1010.477245</td>\n",
       "      <td>0.005293</td>\n",
       "      <td>43.961000</td>\n",
       "      <td>259.873974</td>\n",
       "      <td>742.736000</td>\n",
       "      <td>13344.300000</td>\n",
       "      <td>0.024701</td>\n",
       "      <td>1.690132</td>\n",
       "      <td>5.158302</td>\n",
       "      <td>47.635879</td>\n",
       "      <td>698.775000</td>\n",
       "      <td>0</td>\n",
       "    </tr>\n",
       "    <tr>\n",
       "      <th>REG1A</th>\n",
       "      <td>590.0</td>\n",
       "      <td>394.105176</td>\n",
       "      <td>1120.564240</td>\n",
       "      <td>0.000000</td>\n",
       "      <td>26.500000</td>\n",
       "      <td>26.500000</td>\n",
       "      <td>224.007000</td>\n",
       "      <td>13200.000000</td>\n",
       "      <td>26.500000</td>\n",
       "      <td>2.843313</td>\n",
       "      <td>6.107913</td>\n",
       "      <td>48.241487</td>\n",
       "      <td>197.507000</td>\n",
       "      <td>0</td>\n",
       "    </tr>\n",
       "  </tbody>\n",
       "</table>\n",
       "</div>"
      ],
      "text/plain": [
       "               count        mean          std        min        25%  \\\n",
       "age            590.0   59.079661    13.109520  26.000000  50.000000   \n",
       "diagnosis      590.0    2.027119     0.804873   1.000000   1.000000   \n",
       "plasma_CA19_9  590.0  398.747509  1896.028213   0.000000  17.000000   \n",
       "creatinine     590.0    0.855383     0.639028   0.056550   0.373230   \n",
       "LYVE1          590.0    3.063530     3.438796   0.000129   0.167179   \n",
       "REG1B          590.0  111.774090   196.267110   0.001104  10.757216   \n",
       "TFF1           590.0  597.868722  1010.477245   0.005293  43.961000   \n",
       "REG1A          590.0  394.105176  1120.564240   0.000000  26.500000   \n",
       "\n",
       "                      50%         75%           max       mode       CoV  \\\n",
       "age             60.000000   69.000000     89.000000  68.000000  0.221896   \n",
       "diagnosis        2.000000    3.000000      3.000000   2.000000  0.397053   \n",
       "plasma_CA19_9   26.500000   41.750000  31000.000000  26.500000  4.754959   \n",
       "creatinine       0.723840    1.139482      4.116840   0.576810  0.747067   \n",
       "LYVE1            1.649862    5.205037     23.890323   0.000814  1.122495   \n",
       "REG1B           34.303353  122.741013   1403.897600   1.769536  1.755927   \n",
       "TFF1           259.873974  742.736000  13344.300000   0.024701  1.690132   \n",
       "REG1A           26.500000  224.007000  13200.000000  26.500000  2.843313   \n",
       "\n",
       "                    skew    kurtosis         iqr  missing_counts  \n",
       "age            -0.216832   -0.511899   19.000000               0  \n",
       "diagnosis      -0.049186   -1.454333    2.000000               0  \n",
       "plasma_CA19_9  10.376093  136.966308   24.750000               0  \n",
       "creatinine      1.466413    2.739650    0.766253               0  \n",
       "LYVE1           1.394014    2.419378    5.037858               0  \n",
       "REG1B           3.333925   13.077588  111.983796               0  \n",
       "TFF1            5.158302   47.635879  698.775000               0  \n",
       "REG1A           6.107913   48.241487  197.507000               0  "
      ]
     },
     "execution_count": 29,
     "metadata": {},
     "output_type": "execute_result"
    }
   ],
   "source": [
    "analyzer.get_univariate_analysis(df)"
   ]
  },
  {
   "cell_type": "markdown",
   "metadata": {},
   "source": [
    "# Save again"
   ]
  },
  {
   "cell_type": "code",
   "execution_count": 30,
   "metadata": {},
   "outputs": [],
   "source": [
    "df.to_csv(DATASET_PATH, index=False)"
   ]
  },
  {
   "cell_type": "code",
   "execution_count": null,
   "metadata": {},
   "outputs": [],
   "source": []
  }
 ],
 "metadata": {
  "kernelspec": {
   "display_name": "Python 3.10.4 ('venv': venv)",
   "language": "python",
   "name": "python3"
  },
  "language_info": {
   "codemirror_mode": {
    "name": "ipython",
    "version": 3
   },
   "file_extension": ".py",
   "mimetype": "text/x-python",
   "name": "python",
   "nbconvert_exporter": "python",
   "pygments_lexer": "ipython3",
   "version": "3.10.4"
  },
  "orig_nbformat": 4,
  "vscode": {
   "interpreter": {
    "hash": "14e81f9dd30de7abe194cdb018b72858ef29f6635755ab65564317a61f470e70"
   }
  }
 },
 "nbformat": 4,
 "nbformat_minor": 2
}
