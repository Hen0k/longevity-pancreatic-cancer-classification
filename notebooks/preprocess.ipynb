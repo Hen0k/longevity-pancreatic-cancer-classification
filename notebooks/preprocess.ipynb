{
 "cells": [
  {
   "cell_type": "markdown",
   "metadata": {},
   "source": [
    "This notebooks is not a one off.\n",
    "\n",
    "I keep coming back to it to make different version of the dataset."
   ]
  },
  {
   "cell_type": "code",
   "execution_count": 14,
   "metadata": {},
   "outputs": [],
   "source": [
    "import sys\n",
    "sys.path.append(\"../scripts\")\n",
    "from fetch_data import DataLoader\n",
    "from cleaning import CleanDataFrame\n",
    "from visualization import Plotters\n",
    "from processing import FeatureEngineering\n",
    "from exploration import Analysis"
   ]
  },
  {
   "cell_type": "code",
   "execution_count": 15,
   "metadata": {},
   "outputs": [],
   "source": [
    "cleaner = CleanDataFrame()\n",
    "plotters = Plotters(w=8, h=8)\n",
    "analyzer = Analysis()\n"
   ]
  },
  {
   "cell_type": "code",
   "execution_count": 20,
   "metadata": {},
   "outputs": [],
   "source": [
    "DATASET_PATH = \"../data/Debernardi et al 2020 data.csv\""
   ]
  },
  {
   "cell_type": "code",
   "execution_count": 21,
   "metadata": {},
   "outputs": [
    {
     "name": "stdout",
     "output_type": "stream",
     "text": [
      "Pandas: CSV read from: ../data/Debernardi et al 2020 data.csv\n"
     ]
    }
   ],
   "source": [
    "df = DataLoader.read_csv(DATASET_PATH)"
   ]
  },
  {
   "cell_type": "code",
   "execution_count": 22,
   "metadata": {},
   "outputs": [
    {
     "name": "stdout",
     "output_type": "stream",
     "text": [
      "<class 'pandas.core.frame.DataFrame'>\n",
      "RangeIndex: 590 entries, 0 to 589\n",
      "Data columns (total 14 columns):\n",
      " #   Column                   Non-Null Count  Dtype  \n",
      "---  ------                   --------------  -----  \n",
      " 0   sample_id                590 non-null    object \n",
      " 1   patient_cohort           590 non-null    object \n",
      " 2   sample_origin            590 non-null    object \n",
      " 3   age                      590 non-null    int64  \n",
      " 4   sex                      590 non-null    object \n",
      " 5   diagnosis                590 non-null    int64  \n",
      " 6   stage                    199 non-null    object \n",
      " 7   benign_sample_diagnosis  208 non-null    object \n",
      " 8   plasma_CA19_9            350 non-null    float64\n",
      " 9   creatinine               590 non-null    float64\n",
      " 10  LYVE1                    590 non-null    float64\n",
      " 11  REG1B                    590 non-null    float64\n",
      " 12  TFF1                     590 non-null    float64\n",
      " 13  REG1A                    306 non-null    float64\n",
      "dtypes: float64(6), int64(2), object(6)\n",
      "memory usage: 64.7+ KB\n"
     ]
    }
   ],
   "source": [
    "df.info()"
   ]
  },
  {
   "cell_type": "markdown",
   "metadata": {},
   "source": [
    "For this first version, I will remove all the patient related attributes that don't relate to the disease and don't contribute to the generality of my model.\n",
    "These will be columns like the `sample_id` which is unique for each patient.\n",
    "\n",
    "- sample_id\n",
    "- patient_cohort\n",
    "- sample_origin\n",
    "- stage\n",
    "- benign_sample_diagnosis"
   ]
  },
  {
   "cell_type": "code",
   "execution_count": 23,
   "metadata": {},
   "outputs": [
    {
     "name": "stdout",
     "output_type": "stream",
     "text": [
      "<class 'pandas.core.frame.DataFrame'>\n",
      "RangeIndex: 590 entries, 0 to 589\n",
      "Data columns (total 9 columns):\n",
      " #   Column         Non-Null Count  Dtype  \n",
      "---  ------         --------------  -----  \n",
      " 0   age            590 non-null    int64  \n",
      " 1   sex            590 non-null    object \n",
      " 2   diagnosis      590 non-null    int64  \n",
      " 3   plasma_CA19_9  350 non-null    float64\n",
      " 4   creatinine     590 non-null    float64\n",
      " 5   LYVE1          590 non-null    float64\n",
      " 6   REG1B          590 non-null    float64\n",
      " 7   TFF1           590 non-null    float64\n",
      " 8   REG1A          306 non-null    float64\n",
      "dtypes: float64(6), int64(2), object(1)\n",
      "memory usage: 41.6+ KB\n"
     ]
    }
   ],
   "source": [
    "col_to_drop = [\n",
    "    \"sample_id\",\n",
    "    \"patient_cohort\",\n",
    "    \"sample_origin\",\n",
    "    \"stage\",\n",
    "    \"benign_sample_diagnosis\",\n",
    "]\n",
    "df = cleaner.drop_columns(df, col_to_drop)\n",
    "df.info()"
   ]
  },
  {
   "cell_type": "code",
   "execution_count": 24,
   "metadata": {},
   "outputs": [
    {
     "data": {
      "text/plain": [
       "(plasma_CA19_9    240\n",
       " REG1A            284\n",
       " dtype: int64,\n",
       " array(['plasma_CA19_9', 'REG1A'], dtype=object))"
      ]
     },
     "execution_count": 24,
     "metadata": {},
     "output_type": "execute_result"
    }
   ],
   "source": [
    "analyzer.get_missing_entries_count(df)"
   ]
  },
  {
   "cell_type": "code",
   "execution_count": 25,
   "metadata": {},
   "outputs": [
    {
     "name": "stdout",
     "output_type": "stream",
     "text": [
      "The dataset contains 9.87 % missing values.\n"
     ]
    }
   ],
   "source": [
    "analyzer.percent_missing(df)"
   ]
  },
  {
   "cell_type": "markdown",
   "metadata": {},
   "source": [
    "# Save the data"
   ]
  },
  {
   "cell_type": "code",
   "execution_count": 26,
   "metadata": {},
   "outputs": [],
   "source": [
    "df.to_csv(DATASET_PATH, index=False)"
   ]
  },
  {
   "cell_type": "code",
   "execution_count": null,
   "metadata": {},
   "outputs": [],
   "source": []
  }
 ],
 "metadata": {
  "kernelspec": {
   "display_name": "Python 3.10.4 ('venv': venv)",
   "language": "python",
   "name": "python3"
  },
  "language_info": {
   "codemirror_mode": {
    "name": "ipython",
    "version": 3
   },
   "file_extension": ".py",
   "mimetype": "text/x-python",
   "name": "python",
   "nbconvert_exporter": "python",
   "pygments_lexer": "ipython3",
   "version": "3.10.4"
  },
  "orig_nbformat": 4,
  "vscode": {
   "interpreter": {
    "hash": "14e81f9dd30de7abe194cdb018b72858ef29f6635755ab65564317a61f470e70"
   }
  }
 },
 "nbformat": 4,
 "nbformat_minor": 2
}
