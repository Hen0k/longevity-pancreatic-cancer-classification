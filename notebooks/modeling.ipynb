{
 "cells": [
  {
   "cell_type": "code",
   "execution_count": 1,
   "metadata": {},
   "outputs": [],
   "source": [
    "import sys\n",
    "sys.path.append(\"../scripts\")\n",
    "\n",
    "sys.path.append(\"../\")\n",
    "from fetch_data import DataLoader\n",
    "from modeling_pipeline import (\n",
    "    run_train_pipeline, \n",
    "    get_pipeline,\n",
    "    )\n",
    "from sklearn.ensemble import RandomForestClassifier\n",
    "from sklearn.neighbors import KNeighborsClassifier\n",
    "from sklearn.naive_bayes import GaussianNB\n",
    "from sklearn.tree import DecisionTreeClassifier\n",
    "from sklearn.svm import SVC\n",
    "from xgboost import XGBClassifier, XGBRFClassifier\n",
    "from sklearn.model_selection import cross_val_score\n",
    "\n",
    "import mlflow"
   ]
  },
  {
   "cell_type": "code",
   "execution_count": 2,
   "metadata": {},
   "outputs": [],
   "source": [
    "loader = DataLoader()"
   ]
  },
  {
   "cell_type": "code",
   "execution_count": 3,
   "metadata": {},
   "outputs": [
    {
     "name": "stdout",
     "output_type": "stream",
     "text": [
      "Pandas: CSV read from: ../data/Debernardi et al 2020 data.csv\n"
     ]
    }
   ],
   "source": [
    "DATASET_PATH = \"../data/Debernardi et al 2020 data.csv\"\n",
    "df = loader.read_csv(path=DATASET_PATH)#, version=\"8dd6295730a6359bb811c45a3e2bac69015d827e\", repo=\"./\")"
   ]
  },
  {
   "cell_type": "code",
   "execution_count": 4,
   "metadata": {},
   "outputs": [
    {
     "name": "stdout",
     "output_type": "stream",
     "text": [
      "<class 'pandas.core.frame.DataFrame'>\n",
      "RangeIndex: 590 entries, 0 to 589\n",
      "Data columns (total 9 columns):\n",
      " #   Column         Non-Null Count  Dtype  \n",
      "---  ------         --------------  -----  \n",
      " 0   age            590 non-null    int64  \n",
      " 1   sex            590 non-null    object \n",
      " 2   diagnosis      590 non-null    int64  \n",
      " 3   plasma_CA19_9  590 non-null    float64\n",
      " 4   creatinine     590 non-null    float64\n",
      " 5   LYVE1          590 non-null    float64\n",
      " 6   REG1B          590 non-null    float64\n",
      " 7   TFF1           590 non-null    float64\n",
      " 8   REG1A          590 non-null    float64\n",
      "dtypes: float64(6), int64(2), object(1)\n",
      "memory usage: 41.6+ KB\n"
     ]
    }
   ],
   "source": [
    "df.info()\n"
   ]
  },
  {
   "cell_type": "code",
   "execution_count": 5,
   "metadata": {},
   "outputs": [],
   "source": [
    "x = df.drop(columns=['diagnosis'])\n",
    "y = df['diagnosis'].values"
   ]
  },
  {
   "cell_type": "code",
   "execution_count": 6,
   "metadata": {},
   "outputs": [
    {
     "name": "stdout",
     "output_type": "stream",
     "text": [
      "<class 'pandas.core.frame.DataFrame'>\n",
      "RangeIndex: 590 entries, 0 to 589\n",
      "Data columns (total 8 columns):\n",
      " #   Column         Non-Null Count  Dtype  \n",
      "---  ------         --------------  -----  \n",
      " 0   age            590 non-null    int64  \n",
      " 1   sex            590 non-null    object \n",
      " 2   plasma_CA19_9  590 non-null    float64\n",
      " 3   creatinine     590 non-null    float64\n",
      " 4   LYVE1          590 non-null    float64\n",
      " 5   REG1B          590 non-null    float64\n",
      " 6   TFF1           590 non-null    float64\n",
      " 7   REG1A          590 non-null    float64\n",
      "dtypes: float64(6), int64(1), object(1)\n",
      "memory usage: 37.0+ KB\n"
     ]
    }
   ],
   "source": [
    "x.info()"
   ]
  },
  {
   "cell_type": "code",
   "execution_count": 7,
   "metadata": {},
   "outputs": [
    {
     "data": {
      "text/plain": [
       "(590,)"
      ]
     },
     "execution_count": 7,
     "metadata": {},
     "output_type": "execute_result"
    }
   ],
   "source": [
    "y.shape"
   ]
  },
  {
   "cell_type": "code",
   "execution_count": 15,
   "metadata": {},
   "outputs": [
    {
     "name": "stdout",
     "output_type": "stream",
     "text": [
      "{'acc': 0.75, 'f1': 0.75, 'r2': 0.5, 'mae': 0.27}\n",
      "Run params saved\n",
      "Run metrics saved\n",
      "saving dict\n",
      "Run - RFC is logged to Experiment - RFC-normalized-not-scaled\n"
     ]
    },
    {
     "data": {
      "image/png": "[encoded data removed]",
      "text/plain": [
       "<Figure size 576x576 with 2 Axes>"
      ]
     },
     "metadata": {
      "needs_background": "light"
     },
     "output_type": "display_data"
    }
   ],
   "source": [
    "from locale import normalize\n",
    "\n",
    "\n",
    "model = RandomForestClassifier(n_jobs=16,\n",
    "                               max_depth=9,\n",
    "                               n_estimators=100,\n",
    "                               random_state=500\n",
    "                               )\n",
    "# KNeighborsClassifier\n",
    "# GaussianNB\n",
    "# DecisionTreeClassifier\n",
    "# SVC\n",
    "# model = SVC(break_ties=True)\n",
    "run_train_pipeline(model, x, y,\n",
    "                   experiment_name='RFC-normalized-not-scaled',\n",
    "                   run_name='RFC',\n",
    "                   normalize=True,\n",
    "                   scale=False\n",
    "                   )\n",
    "\n",
    "mlflow.end_run()\n"
   ]
  },
  {
   "cell_type": "code",
   "execution_count": 16,
   "metadata": {},
   "outputs": [],
   "source": [
    "\n",
    "y_ded = y - 1\n",
    "# y"
   ]
  },
  {
   "cell_type": "code",
   "execution_count": 22,
   "metadata": {},
   "outputs": [
    {
     "name": "stdout",
     "output_type": "stream",
     "text": [
      "{'acc': 0.72, 'f1': 0.72, 'r2': 0.5, 'mae': 0.29}\n",
      "Run params saved\n",
      "Run metrics saved\n",
      "saving dict\n",
      "Run - XGBRF-normalized-not-scaled is logged to Experiment - XGBRFClassifier\n"
     ]
    },
    {
     "data": {
      "image/png": "[encoded data removed]",
      "text/plain": [
       "<Figure size 576x576 with 2 Axes>"
      ]
     },
     "metadata": {
      "needs_background": "light"
     },
     "output_type": "display_data"
    }
   ],
   "source": [
    "model = XGBRFClassifier(n_jobs=16, \n",
    "\n",
    "                      max_depth=5,\n",
    "                      n_estimators=100,\n",
    "                      random_state=500\n",
    "                      )\n",
    "run_train_pipeline(model, x, y_ded,\n",
    "                   experiment_name='XGBRFClassifier',\n",
    "                   run_name='XGBRF-normalized-not-scaled',\n",
    "                   normalize=True,\n",
    "                   scale=False\n",
    "                   )\n",
    "\n",
    "mlflow.end_run()\n"
   ]
  },
  {
   "cell_type": "code",
   "execution_count": null,
   "metadata": {},
   "outputs": [],
   "source": []
  }
 ],
 "metadata": {
  "kernelspec": {
   "display_name": "Python 3.10.4 ('venv': venv)",
   "language": "python",
   "name": "python3"
  },
  "language_info": {
   "codemirror_mode": {
    "name": "ipython",
    "version": 3
   },
   "file_extension": ".py",
   "mimetype": "text/x-python",
   "name": "python",
   "nbconvert_exporter": "python",
   "pygments_lexer": "ipython3",
   "version": "3.10.4"
  },
  "orig_nbformat": 4,
  "vscode": {
   "interpreter": {
    "hash": "d53fe640931e353df9dbd3aad042e01923df10c3e925159d788905f517167197"
   }
  }
 },
 "nbformat": 4,
 "nbformat_minor": 2
}
